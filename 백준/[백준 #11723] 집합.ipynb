{
 "cells": [
  {
   "cell_type": "markdown",
   "metadata": {},
   "source": [
    "# 집합"
   ]
  },
  {
   "cell_type": "markdown",
   "metadata": {},
   "source": [
    "### [백준 #11723] 집합\n",
    "비어있는 공집합 S가 주어졌을 때, 아래 연산을 수행하는 프로그램을 작성하시오.\n",
    "\n",
    "- add x: S에 x를 추가한다. (1 ≤ x ≤ 20) S에 x가 이미 있는 경우에는 연산을 무시한다.\n",
    "- remove x: S에서 x를 제거한다. (1 ≤ x ≤ 20) S에 x가 없는 경우에는 연산을 무시한다.\n",
    "- check x: S에 x가 있으면 1을, 없으면 0을 출력한다. (1 ≤ x ≤ 20)\n",
    "- toggle x: S에 x가 있으면 x를 제거하고, 없으면 x를 추가한다. (1 ≤ x ≤ 20)\n",
    "- all: S를 {1, 2, ..., 20} 으로 바꾼다.\n",
    "- empty: S를 공집합으로 바꾼다."
   ]
  },
  {
   "cell_type": "markdown",
   "metadata": {},
   "source": [
    "### 입력\n",
    "첫째 줄에 수행해야 하는 연산의 수 M (1 ≤ M ≤ 3,000,000)이 주어진다.\n",
    "\n",
    "둘째 줄부터 M개의 줄에 수행해야 하는 연산이 한 줄에 하나씩 주어진다.\n",
    "### 출력\n",
    "check 연산이 주어질때마다, 결과를 출력한다."
   ]
  },
  {
   "cell_type": "markdown",
   "metadata": {},
   "source": [
    "26\n",
    "add 1\n",
    "add 2\n",
    "check 1\n",
    "check 2\n",
    "check 3\n",
    "remove 2\n",
    "check 1\n",
    "check 2\n",
    "toggle 3\n",
    "check 1\n",
    "check 2\n",
    "check 3\n",
    "check 4\n",
    "all\n",
    "check 10\n",
    "check 20\n",
    "toggle 10\n",
    "remove 20\n",
    "check 10\n",
    "check 20\n",
    "empty\n",
    "check 1\n",
    "toggle 1\n",
    "check 1\n",
    "toggle 1\n",
    "check 1\n"
   ]
  },
  {
   "cell_type": "code",
   "execution_count": null,
   "metadata": {},
   "outputs": [],
   "source": [
    "M = int(input())\n",
    "result = []\n",
    "S = 0\n",
    "    \n",
    "for _ in range(M):\n",
    "    Q = str(input())\n",
    "\n",
    "    if Q[0] == \"add\":\n",
    "        x = int(Q[1])\n",
    "        S |= (1 << x)\n",
    "    \n",
    "    elif Q[0] == \"remove\":\n",
    "        x = int(Q[1])\n",
    "        S &= ~(1 << x)\n",
    "    \n",
    "    elif Q[0] == \"check\":\n",
    "        x = int(Q[1])\n",
    "        if S & (1 << x):\n",
    "            result.append(\"1\")\n",
    "        else:\n",
    "            result.append(\"0\")\n",
    "    \n",
    "    elif Q[0] == \"toggle\":\n",
    "        x = int(Q[1])\n",
    "        S ^= (1 << x)\n",
    "    \n",
    "    elif Q[0] == \"all\":\n",
    "        S = (1 << 21) - 1  # {1, 2, ..., 20}을 나타내는 비트마스크\n",
    "    \n",
    "    elif Q[0] == \"empty\":\n",
    "        S = 0  # 공집합으로 설정        "
   ]
  }
 ],
 "metadata": {
  "language_info": {
   "name": "python"
  }
 },
 "nbformat": 4,
 "nbformat_minor": 2
}
