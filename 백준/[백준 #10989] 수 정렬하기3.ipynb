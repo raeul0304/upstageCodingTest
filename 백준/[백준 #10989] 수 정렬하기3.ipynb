{
 "cells": [
  {
   "cell_type": "markdown",
   "metadata": {},
   "source": [
    "# [백준 #10989] 수 정렬하기 3\n",
    "\n",
    "### 문제\n",
    "\n",
    "N개의 수가 주어졌을 때, 이를 오름차순으로 정렬하는 프로그램을 작성하시오.\n",
    "\n",
    "### 입력\n",
    "\n",
    "첫째 줄에 수의 개수 N(1 ≤ N ≤ 10,000,000)이 주어진다. 둘째 줄부터 N개의 줄에는 수가 주어진다. 이 수는 10,000보다 작거나 같은 자연수이다.\n",
    "\n",
    "### 출력\n",
    "\n",
    "첫째 줄부터 N개의 줄에 오름차순으로 정렬한 결과를 한 줄에 하나씩 출력한다."
   ]
  },
  {
   "cell_type": "code",
   "execution_count": null,
   "metadata": {},
   "outputs": [],
   "source": [
    "import sys\n",
    "\n",
    "# 입력 받기\n",
    "N = int(sys.stdin.readline().strip())\n",
    "count = [0] * 100  # 수의 범위가 1부터 10,000까지이므로 크기 10001의 리스트 사용\n",
    "\n",
    "# 입력 받은 N개 만큼 반복, 입력받은 숫자를 인덱스로 값을 추가시킴 count[3]=10 -> 3이 10번 입력받은 것\n",
    "for _ in range(N):\n",
    "    number = int(sys.stdin.readline().strip())\n",
    "    count[number] += 1 #\n",
    "\n",
    "# 출력 조건에 따라 1,10001에서 i(입력받은 숫자)값을 돌게 된다. 입력 받지 않았을 경우에 0보다 큰 조건을 명시\n",
    "for i in range(1, 100):\n",
    "    if count[i] > 0:\n",
    "        sys.stdout.write((str(i) + '\\n') * count[i])\n"
   ]
  },
  {
   "cell_type": "markdown",
   "metadata": {},
   "source": [
    "## sys.stdout.write과 sys.stdin.readline을 사용한 이유\n",
    "## 출력 속도에서 차이를 보임\n",
    "1. print : 내부적으로 여러 작업을 처리합니다 (예: sep, end, file, flush 등).\n",
    "그 결과 sys.stdout.write보다 약간 더 느릴 수 있습니다. 특히 많은 양의 데이터를 출력할 때 차이가 나타날 수 있습니다.\n",
    "2. sys.stdout.write: 더 직접적인 출력 방법입니다. 불필요한 처리 없이 문자열을 바로 출력합니다.\n",
    "많은 양의 데이터를 출력할 때 더 빠르게 동작할 수 있습니다.\n",
    "## 유연성:\n",
    "1. print: 더 사용하기 쉽고, 여러 인자를 한 번에 출력할 수 있는 등 편리한 기능을 제공합니다.\n",
    "다양한 옵션을 제공하기 때문에 일반적인 출력에 자주 사용됩니다.\n",
    "예를 들어, print(\"Hello\", \"World\", sep=\", \")와 같이 여러 인자를 출력할 수 있습니다.\n",
    "2. sys.stdout.write: 문자열을 한 번에 하나씩 출력합니다.\n",
    "print에 비해 기능이 제한적이지만, 단순한 출력 작업에서는 더 효율적일 수 있습니다."
   ]
  },
  {
   "cell_type": "code",
   "execution_count": null,
   "metadata": {},
   "outputs": [],
   "source": []
  }
 ],
 "metadata": {
  "language_info": {
   "name": "python"
  }
 },
 "nbformat": 4,
 "nbformat_minor": 2
}
